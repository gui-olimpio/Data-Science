{
 "cells": [
  {
   "cell_type": "code",
   "execution_count": null,
   "metadata": {},
   "outputs": [],
   "source": [
    "#Bibliotecas\n",
    "import win32com.client\n",
    "from time import sleep"
   ]
  },
  {
   "cell_type": "code",
   "execution_count": null,
   "metadata": {},
   "outputs": [],
   "source": [
    "#Atualizando CCB Management\n",
    "xl = win32com.client.DispatchEx(\"Excel.Application\")\n",
    "xb = xl.workbooks.open(\"C:/Users/494115/Downloads/Bucharest L5 - CCB - Management.xlsm\")\n",
    "xl.Visible = True\n",
    "xb.RefreshAll()\n",
    "sleep(60)\n",
    "xb.Save()\n",
    "xb.Close(True)\n",
    "xl.Quit()"
   ]
  }
 ],
 "metadata": {
  "language_info": {
   "name": "python"
  },
  "orig_nbformat": 4
 },
 "nbformat": 4,
 "nbformat_minor": 2
}
