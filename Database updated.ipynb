{
 "cells": [
  {
   "cell_type": "code",
   "execution_count": 1,
   "metadata": {},
   "outputs": [],
   "source": [
    "import os\n",
    "import pandas as pd\n",
    "import numpy as np\n",
    "import re\n",
    "from pathlib import Path\n",
    "import openpyxl\n"
   ]
  },
  {
   "cell_type": "code",
   "execution_count": 2,
   "metadata": {},
   "outputs": [],
   "source": [
    "#Path onde os arquivos estão baixados\n",
    "#Usar \\\\ pois estou utilizando o caminho como texto e é necessário utilizar o \"barra dupla\" para entender corretamento o caminho.\n",
    "path = 'C:\\\\Users\\\\494115\\\\Downloads'"
   ]
  },
  {
   "cell_type": "code",
   "execution_count": 3,
   "metadata": {},
   "outputs": [],
   "source": [
    "#Cria o objeto path\n",
    "#Necessário criar o objeto por causa da documentação \n",
    "pathobj = Path(path)"
   ]
  },
  {
   "cell_type": "code",
   "execution_count": 4,
   "metadata": {},
   "outputs": [],
   "source": [
    "#Função que cria a planilha excel com base em um dataframe\n",
    "#E também adiciona uma tabela na planilha\n",
    "def build_table(df,save_to,sheetname,tablename,filename):  \n",
    "    #Cria a planilha\n",
    "    PathSave = save_to+\"\\\\\"+filename+\".xlsx\"\n",
    "    with pd.ExcelWriter(PathSave) as writer:\n",
    "        if not df.index.name:\n",
    "            df.index.name = 'Index'\n",
    "        df.to_excel(writer, sheet_name=sheetname, index=False)\n",
    "    #Cria a tabela\n",
    "    wb = openpyxl.load_workbook(filename = PathSave)\n",
    "    tab = openpyxl.worksheet.table.Table(displayName=tablename, ref=f'A1:{openpyxl.utils.get_column_letter(df.shape[1])}{len(df)+1}')\n",
    "    wb[sheetname].add_table(tab)\n",
    "    wb.save(PathSave)"
   ]
  },
  {
   "cell_type": "code",
   "execution_count": 5,
   "metadata": {},
   "outputs": [],
   "source": [
    "#Ignorar todos os avisos de warnings do código\n",
    "import warnings\n",
    "warnings.filterwarnings(\"ignore\")"
   ]
  },
  {
   "attachments": {},
   "cell_type": "markdown",
   "metadata": {},
   "source": [
    "# CSV"
   ]
  },
  {
   "attachments": {},
   "cell_type": "markdown",
   "metadata": {},
   "source": [
    "Código para ler os .csv da pasta"
   ]
  },
  {
   "cell_type": "code",
   "execution_count": 6,
   "metadata": {},
   "outputs": [],
   "source": [
    "for file in pathobj.rglob(\"*.csv\"):\n",
    "    filename_orig = str(file).split(\"\\\\\")[-1].split('.')[0]\n",
    "    filename_novo = re.sub(r'\\d+$', '',filename_orig)\n",
    "    save_to = 'C:\\\\Users\\\\494115\\\\Documents' #path para salvar a planilha final\n",
    "    os.rename(path+\"\\\\\"+filename_orig+\".csv\", path+\"\\\\\"+filename_novo+\".csv\")\n",
    "    if 'Change_Projects_Status_View' == filename_novo:\n",
    "        df = pd.read_csv(path+\"\\\\\"+filename_novo+\".csv\", encoding=\"latin_1\",skiprows=4,delimiter=';')\n",
    "        df.drop(columns=['Originated','Unnamed: 23'],inplace=True)\n",
    "        df = df.applymap(lambda x: x.encode('unicode_escape').\n",
    "                 decode('latin_1') if isinstance(x, str) else x)\n",
    "        df.replace({'=\"':''},inplace=True,regex=True)\n",
    "        df.replace({'\"':''},inplace=True,regex=True)\n",
    "        df.to_csv(save_to+\"\\\\\"+filename_novo+\".csv\", encoding=\"latin_1\", index=False, sep=';')\n",
    "    if 'Pending_tasks_matching_filter_criteria' == filename_novo:\n",
    "        df = pd.read_csv(path+\"\\\\\"+filename_novo+\".csv\", encoding=\"latin_1\",skiprows=4,delimiter=';')\n",
    "        df.drop(columns=['Unnamed: 18'],inplace=True)\n",
    "        df.replace({'=\"':''},inplace=True,regex=True)\n",
    "        df.replace({'\"':''},inplace=True,regex=True)\n",
    "        df.to_csv(save_to+\"\\\\\"+filename_novo+\".csv\", encoding=\"latin_1\", index=False, sep=';')\n",
    "    if 'ISS-0040773__Resolved_Items' == filename_novo:\n",
    "        df = pd.read_csv(path+\"\\\\\"+filename_novo+\".csv\", encoding=\"latin_1\",skiprows=4,delimiter=';')\n",
    "        df.drop(columns=['Unnamed: 6'],inplace=True)\n",
    "        df.replace({'=\"':''},inplace=True,regex=True)\n",
    "        df.replace({'\"':''},inplace=True,regex=True)\n",
    "        df.to_csv(save_to+\"\\\\\"+filename_novo+\".csv\", encoding=\"latin_1\", index=False, sep=';')\n",
    "    if 'ISS-0052711__Resolved_Items' == filename_novo:\n",
    "        df = pd.read_csv(path+\"\\\\\"+filename_novo+\".csv\", encoding=\"latin_1\",skiprows=4,delimiter=';')\n",
    "        df.drop(columns=['Unnamed: 6'],inplace=True)\n",
    "        df.replace({'=\"':''},inplace=True,regex=True)\n",
    "        df.replace({'\"':''},inplace=True,regex=True)\n",
    "        df.to_csv(save_to+\"\\\\\"+filename_novo+\".csv\", encoding=\"latin_1\", index=False, sep=';')\n",
    "    if 'Cost-Consolidation' == filename_novo:\n",
    "        df = pd.read_csv(path+\"\\\\\"+filename_novo+\".csv\", encoding=\"latin_1\",skiprows=0,delimiter=';')\n",
    "        df.to_csv(save_to+\"\\\\\"+filename_novo+\".csv\", encoding=\"latin_1\", index=False)\n",
    "    if 'Change-Per-Impacted-CI' == filename_novo:\n",
    "        os.rename(path+\"\\\\\"+filename_novo+\".csv\", save_to+\"\\\\\"+filename_novo+\".csv\")\n",
    "    if 'CT4000_-_Bucharest_L5_RS_rev_1021617346859547__Structure_View' == filename_novo:\n",
    "        df = pd.read_csv(path+\"\\\\\"+filename_novo+\".csv\", encoding=\"latin_1\",skiprows=1,delimiter=';')\n",
    "        df.drop(columns=['Unnamed: 11'],inplace=True)\n",
    "        df.replace({'=\"':''},inplace=True,regex=True)\n",
    "        df.replace({'\"':''},inplace=True,regex=True)\n",
    "        df.to_csv(save_to+\"\\\\\"+filename_novo+\".csv\", encoding=\"latin_1\", index=False, sep=';')\n",
    "    if 'CT2949_-_Chile_-_Santiago_Metro_-_Line_7_RS_&_CBTC_rev_41663305393528__Structure_View' == filename_novo:\n",
    "        df = pd.read_csv(path+\"\\\\\"+filename_novo+\".csv\", encoding=\"latin_1\",skiprows=1,delimiter=';')\n",
    "        df.drop(columns=['Unnamed: 11'],inplace=True)\n",
    "        df.replace({'=\"':''},inplace=True,regex=True)\n",
    "        df.replace({'\"':''},inplace=True,regex=True)\n",
    "        df.to_csv(save_to+\"\\\\\"+filename_novo+\".csv\", encoding=\"latin_1\", index=False, sep=';')"
   ]
  },
  {
   "attachments": {},
   "cell_type": "markdown",
   "metadata": {},
   "source": [
    "# Excel"
   ]
  },
  {
   "attachments": {},
   "cell_type": "markdown",
   "metadata": {},
   "source": [
    "Código para ler o .xlsx na pasta"
   ]
  },
  {
   "cell_type": "code",
   "execution_count": 7,
   "metadata": {},
   "outputs": [],
   "source": [
    "for file in pathobj.rglob(\"*.xlsx\"):\n",
    "    filename_orig = str(file).split(\"\\\\\")[-1].split('.')[0]\n",
    "    filename_novo = re.sub(r'\\d+$', '',filename_orig)\n",
    "    save_to = 'C:\\\\Users\\\\494115\\\\Documents' #path para salvar a planilha final\n",
    "    os.rename(path+\"\\\\\"+filename_orig+\".xlsx\", path+\"\\\\\"+filename_novo+\".xlsx\")\n",
    "    if 'CT4000 - Bucharest L5 RS_MSRS_Train1_' == filename_novo:\n",
    "        df = pd.read_excel(path+\"\\\\\"+filename_novo+\".xlsx\",skiprows=2)\n",
    "        df.to_excel(save_to+\"\\\\\"+filename_novo+\".xlsx\",index=False)\n",
    "    if 'CT4000 - Bucharest L5 RS_MSRS_Train2_' == filename_novo:\n",
    "        df = pd.read_excel(path+\"\\\\\"+filename_novo+\".xlsx\",skiprows=2)\n",
    "        df.to_excel(save_to+\"\\\\\"+filename_novo+\".xlsx\",index=False)\n",
    "    if 'CT4000 - Bucharest L5 RS_MSRS_Train3_' == filename_novo:\n",
    "        df = pd.read_excel(path+\"\\\\\"+filename_novo+\".xlsx\",skiprows=2)\n",
    "        df.to_excel(save_to+\"\\\\\"+filename_novo+\".xlsx\",index=False)\n",
    "    if 'CT4000 - Bucharest L5 RS_MSRS_Fleet_' == filename_novo:\n",
    "        df = pd.read_excel(path+\"\\\\\"+filename_novo+\".xlsx\",skiprows=2)\n",
    "        df.to_excel(save_to+\"\\\\\"+filename_novo+\".xlsx\",index=False)\n",
    "    if 'CT4000 - Bucharest L5 RS_Global-Project_View_' == filename_novo:\n",
    "        df = pd.read_excel(path+\"\\\\\"+filename_novo+\".xlsx\")\n",
    "        sheet_name = 'mySheet12'\n",
    "        table_name='Global_View'\n",
    "        build_table(df,save_to,sheet_name,table_name,filename_novo)\n",
    "    if 'CT2949 - Chile - Santiago Metro - Line 7 RS & CBTC_Global-Project_View_' == filename_novo:\n",
    "        df = pd.read_excel(path+\"\\\\\"+filename_novo+\".xlsx\")\n",
    "        sheet_name = 'mySheet12'\n",
    "        table_name='Global_View'\n",
    "        build_table(df,save_to,sheet_name,table_name,filename_novo)\n",
    "    if 'CT4000 - Bucharest L5 RS_CO_List_' == filename_novo:\n",
    "        df = pd.read_excel(path+\"\\\\\"+filename_novo+\".xlsx\")\n",
    "        sheet_name = 'mySheet12'\n",
    "        table_name='CO_list'\n",
    "        build_table(df,save_to,sheet_name,table_name,filename_novo)"
   ]
  },
  {
   "attachments": {},
   "cell_type": "markdown",
   "metadata": {},
   "source": [
    "Caixa de dialógo falando que o código acabou"
   ]
  },
  {
   "cell_type": "code",
   "execution_count": 8,
   "metadata": {},
   "outputs": [],
   "source": [
    "import tkinter as tk \n",
    "from tkinter.messagebox import showinfo\n",
    "root = tk.Tk() \n",
    "root.attributes('-topmost', True) \n",
    "root.iconify()\n",
    "showinfo(\"Código Python\", \"Seu código terminou!\")\n",
    "root.destroy()"
   ]
  }
 ],
 "metadata": {
  "kernelspec": {
   "display_name": "Python 3",
   "language": "python",
   "name": "python3"
  },
  "language_info": {
   "codemirror_mode": {
    "name": "ipython",
    "version": 3
   },
   "file_extension": ".py",
   "mimetype": "text/x-python",
   "name": "python",
   "nbconvert_exporter": "python",
   "pygments_lexer": "ipython3",
   "version": "3.10.6"
  },
  "orig_nbformat": 4,
  "vscode": {
   "interpreter": {
    "hash": "26de051ba29f2982a8de78e945f0abaf191376122a1563185a90213a26c5da77"
   }
  }
 },
 "nbformat": 4,
 "nbformat_minor": 2
}
