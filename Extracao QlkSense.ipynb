{
 "cells": [
  {
   "cell_type": "code",
   "execution_count": 1,
   "id": "8d07826e",
   "metadata": {
    "scrolled": true
   },
   "outputs": [
    {
     "name": "stdout",
     "output_type": "stream",
     "text": [
      "Defaulting to user installation because normal site-packages is not writeable\n",
      "Requirement already satisfied: selenium in c:\\users\\494115\\appdata\\roaming\\python\\python310\\site-packages (4.7.2)\n",
      "Requirement already satisfied: trio-websocket~=0.9 in c:\\users\\494115\\appdata\\roaming\\python\\python310\\site-packages (from selenium) (0.9.2)\n",
      "Requirement already satisfied: urllib3[socks]~=1.26 in c:\\users\\494115\\appdata\\roaming\\python\\python310\\site-packages (from selenium) (1.26.13)\n",
      "Requirement already satisfied: certifi>=2021.10.8 in c:\\users\\494115\\appdata\\roaming\\python\\python310\\site-packages (from selenium) (2022.12.7)\n",
      "Requirement already satisfied: trio~=0.17 in c:\\users\\494115\\appdata\\roaming\\python\\python310\\site-packages (from selenium) (0.22.0)\n",
      "Requirement already satisfied: sniffio in c:\\users\\494115\\appdata\\roaming\\python\\python310\\site-packages (from trio~=0.17->selenium) (1.3.0)\n",
      "Requirement already satisfied: sortedcontainers in c:\\users\\494115\\appdata\\roaming\\python\\python310\\site-packages (from trio~=0.17->selenium) (2.4.0)\n",
      "Requirement already satisfied: cffi>=1.14 in c:\\users\\494115\\appdata\\roaming\\python\\python310\\site-packages (from trio~=0.17->selenium) (1.15.1)\n",
      "Requirement already satisfied: attrs>=19.2.0 in c:\\users\\494115\\appdata\\roaming\\python\\python310\\site-packages (from trio~=0.17->selenium) (22.2.0)\n",
      "Requirement already satisfied: exceptiongroup>=1.0.0rc9 in c:\\users\\494115\\appdata\\roaming\\python\\python310\\site-packages (from trio~=0.17->selenium) (1.1.0)\n",
      "Requirement already satisfied: outcome in c:\\users\\494115\\appdata\\roaming\\python\\python310\\site-packages (from trio~=0.17->selenium) (1.2.0)\n",
      "Requirement already satisfied: async-generator>=1.9 in c:\\users\\494115\\appdata\\roaming\\python\\python310\\site-packages (from trio~=0.17->selenium) (1.10)\n",
      "Requirement already satisfied: idna in c:\\users\\494115\\appdata\\roaming\\python\\python310\\site-packages (from trio~=0.17->selenium) (3.4)\n",
      "Requirement already satisfied: wsproto>=0.14 in c:\\users\\494115\\appdata\\roaming\\python\\python310\\site-packages (from trio-websocket~=0.9->selenium) (1.2.0)\n",
      "Requirement already satisfied: PySocks!=1.5.7,<2.0,>=1.5.6 in c:\\users\\494115\\appdata\\roaming\\python\\python310\\site-packages (from urllib3[socks]~=1.26->selenium) (1.7.1)\n",
      "Requirement already satisfied: pycparser in c:\\users\\494115\\appdata\\roaming\\python\\python310\\site-packages (from cffi>=1.14->trio~=0.17->selenium) (2.21)\n",
      "Requirement already satisfied: h11<1,>=0.9.0 in c:\\users\\494115\\appdata\\roaming\\python\\python310\\site-packages (from wsproto>=0.14->trio-websocket~=0.9->selenium) (0.14.0)\n",
      "Note: you may need to restart the kernel to use updated packages.\n"
     ]
    },
    {
     "name": "stderr",
     "output_type": "stream",
     "text": [
      "\n",
      "[notice] A new release of pip available: 22.3.1 -> 23.0.1\n",
      "[notice] To update, run: python.exe -m pip install --upgrade pip\n"
     ]
    },
    {
     "name": "stdout",
     "output_type": "stream",
     "text": [
      "Defaulting to user installation because normal site-packages is not writeable\n",
      "Requirement already satisfied: webdriver-manager in c:\\users\\494115\\appdata\\roaming\\python\\python310\\site-packages (3.8.5)\n",
      "Requirement already satisfied: packaging in c:\\users\\494115\\appdata\\roaming\\python\\python310\\site-packages (from webdriver-manager) (22.0)\n",
      "Requirement already satisfied: python-dotenv in c:\\users\\494115\\appdata\\roaming\\python\\python310\\site-packages (from webdriver-manager) (0.21.0)\n",
      "Requirement already satisfied: tqdm in c:\\users\\494115\\appdata\\roaming\\python\\python310\\site-packages (from webdriver-manager) (4.64.1)\n",
      "Requirement already satisfied: requests in c:\\users\\494115\\appdata\\roaming\\python\\python310\\site-packages (from webdriver-manager) (2.28.1)\n",
      "Requirement already satisfied: charset-normalizer<3,>=2 in c:\\users\\494115\\appdata\\roaming\\python\\python310\\site-packages (from requests->webdriver-manager) (2.1.1)\n",
      "Requirement already satisfied: idna<4,>=2.5 in c:\\users\\494115\\appdata\\roaming\\python\\python310\\site-packages (from requests->webdriver-manager) (3.4)\n",
      "Requirement already satisfied: urllib3<1.27,>=1.21.1 in c:\\users\\494115\\appdata\\roaming\\python\\python310\\site-packages (from requests->webdriver-manager) (1.26.13)\n",
      "Requirement already satisfied: certifi>=2017.4.17 in c:\\users\\494115\\appdata\\roaming\\python\\python310\\site-packages (from requests->webdriver-manager) (2022.12.7)\n",
      "Requirement already satisfied: colorama in c:\\users\\494115\\appdata\\roaming\\python\\python310\\site-packages (from tqdm->webdriver-manager) (0.4.6)\n",
      "Note: you may need to restart the kernel to use updated packages.\n"
     ]
    },
    {
     "name": "stderr",
     "output_type": "stream",
     "text": [
      "\n",
      "[notice] A new release of pip available: 22.3.1 -> 23.0.1\n",
      "[notice] To update, run: python.exe -m pip install --upgrade pip\n"
     ]
    }
   ],
   "source": [
    "# Instalar Selenium e Webdriver - \"%pip install ......\"\n",
    "\n",
    "%pip install selenium\n",
    "%pip install webdriver-manager"
   ]
  },
  {
   "cell_type": "code",
   "execution_count": 2,
   "id": "36e74cae",
   "metadata": {},
   "outputs": [],
   "source": [
    "# Importar pacotes\n",
    "\n",
    "from selenium import webdriver\n",
    "from selenium.webdriver.common.by import By\n",
    "from selenium.webdriver.common.keys import Keys\n",
    "from selenium.webdriver.common.action_chains import ActionChains\n",
    "import time\n",
    "from webdriver_manager.chrome import ChromeDriverManager\n",
    "from selenium.webdriver.chrome.service import Service as ChromeService\n",
    "from webdriver_manager.microsoft import EdgeChromiumDriverManager"
   ]
  },
  {
   "cell_type": "code",
   "execution_count": 3,
   "id": "3bd9da04",
   "metadata": {},
   "outputs": [
    {
     "name": "stderr",
     "output_type": "stream",
     "text": [
      "[WDM] - Downloading: 100%|██████████| 9.02M/9.02M [00:00<00:00, 14.4MB/s]\n",
      "C:\\Users\\494115\\AppData\\Local\\Temp\\ipykernel_4712\\179433283.py:1: DeprecationWarning: executable_path has been deprecated, please pass in a Service object\n",
      "  driver = webdriver.Edge(EdgeChromiumDriverManager().install())\n"
     ]
    }
   ],
   "source": [
    "driver = webdriver.Edge(EdgeChromiumDriverManager().install())"
   ]
  },
  {
   "cell_type": "code",
   "execution_count": 4,
   "id": "4a96e824",
   "metadata": {},
   "outputs": [],
   "source": [
    "# Criando variável para abrir browser - obs.: O \"r\" é necessário para que o caminho seja entendido como \"\\\".\n",
    "\n",
    "#service = ChromeService(executable_path=ChromeDriverManager().install())\n",
    "#driver = webdriver.Chrome(Service=service)\n",
    "driver.maximize_window()\n",
    "driver.get('https://dashboard.alstom.com/sense/app/6fd7f767-ec1b-4ae3-9bff-3127dda8152a/sheet/9fa88aba-0155-4876-bbd1-f928720d7cca/state/analysis')\n"
   ]
  },
  {
   "cell_type": "code",
   "execution_count": 5,
   "id": "b965564a",
   "metadata": {},
   "outputs": [
    {
     "ename": "NoSuchElementException",
     "evalue": "Message: no such element: Unable to locate element: {\"method\":\"xpath\",\"selector\":\"//*[@id=\"TGGZpe_content\"]/qv-filterpane/div/div[4]/div/div[2]/span\"}\n  (Session info: MicrosoftEdge=111.0.1661.41)\nStacktrace:\nBacktrace:\n\tMicrosoft::Applications::Events::EventProperties::SetProperty [0x00007FF78DD1A742+12658]\n\tMicrosoft::Applications::Events::EventProperty::EventProperty [0x00007FF78DCB29E2+747650]\n\t(No symbol) [0x00007FF78D94DD2E]\n\t(No symbol) [0x00007FF78D98FB49]\n\t(No symbol) [0x00007FF78D98FCD0]\n\t(No symbol) [0x00007FF78D9CB4B7]\n\t(No symbol) [0x00007FF78D9AF42F]\n\t(No symbol) [0x00007FF78D982791]\n\t(No symbol) [0x00007FF78D9C874C]\n\t(No symbol) [0x00007FF78D9AF1C3]\n\t(No symbol) [0x00007FF78D9817D6]\n\t(No symbol) [0x00007FF78D9809B5]\n\t(No symbol) [0x00007FF78D981F44]\n\tMicrosoft::Applications::Events::EventProperties::SetProperty [0x00007FF78DBC56A0+147088]\n\t(No symbol) [0x00007FF78DA69306]\n\tMicrosoft::Applications::Events::EventProperty::EventProperty [0x00007FF78DC04607+33959]\n\tMicrosoft::Applications::Events::EventProperty::EventProperty [0x00007FF78DC080D5+49013]\n\tMicrosoft::Applications::Events::ILogManager::DispatchEventBroadcast [0x00007FF78DEF9A93+1305267]\n\tMicrosoft::Applications::Events::EventProperty::EventProperty [0x00007FF78DCBAF9C+781884]\n\tMicrosoft::Applications::Events::EventProperty::EventProperty [0x00007FF78DCC04C4+803684]\n\tMicrosoft::Applications::Events::EventProperty::EventProperty [0x00007FF78DCC061C+804028]\n\tMicrosoft::Applications::Events::EventProperty::EventProperty [0x00007FF78DCC8721+837057]\n\tBaseThreadInitThunk [0x00007FFD30007614+20]\n\tRtlUserThreadStart [0x00007FFD30E226A1+33]\n",
     "output_type": "error",
     "traceback": [
      "\u001b[1;31m---------------------------------------------------------------------------\u001b[0m",
      "\u001b[1;31mNoSuchElementException\u001b[0m                    Traceback (most recent call last)",
      "Cell \u001b[1;32mIn[5], line 1\u001b[0m\n\u001b[1;32m----> 1\u001b[0m driver\u001b[39m.\u001b[39;49mfind_element(By\u001b[39m.\u001b[39;49mXPATH, \u001b[39m'\u001b[39;49m\u001b[39m//*[@id=\u001b[39;49m\u001b[39m\"\u001b[39;49m\u001b[39mTGGZpe_content\u001b[39;49m\u001b[39m\"\u001b[39;49m\u001b[39m]/qv-filterpane/div/div[4]/div/div[2]/span\u001b[39;49m\u001b[39m'\u001b[39;49m)\u001b[39m.\u001b[39mclick()\n\u001b[0;32m      2\u001b[0m login \u001b[39m=\u001b[39m driver\u001b[39m.\u001b[39mfind_element(By\u001b[39m.\u001b[39mXPATH, \u001b[39m'\u001b[39m\u001b[39m//*[@id=\u001b[39m\u001b[39m\"\u001b[39m\u001b[39ma7668034-f452-4553-aece-c2664d1d022a_content\u001b[39m\u001b[39m\"\u001b[39m\u001b[39m]/div/div[1]/div/input\u001b[39m\u001b[39m'\u001b[39m)\n\u001b[0;32m      3\u001b[0m time\u001b[39m.\u001b[39msleep(\u001b[39m2\u001b[39m)\n",
      "File \u001b[1;32m~\\AppData\\Roaming\\Python\\Python310\\site-packages\\selenium\\webdriver\\remote\\webdriver.py:861\u001b[0m, in \u001b[0;36mWebDriver.find_element\u001b[1;34m(self, by, value)\u001b[0m\n\u001b[0;32m    858\u001b[0m     by \u001b[39m=\u001b[39m By\u001b[39m.\u001b[39mCSS_SELECTOR\n\u001b[0;32m    859\u001b[0m     value \u001b[39m=\u001b[39m \u001b[39m'\u001b[39m\u001b[39m[name=\u001b[39m\u001b[39m\"\u001b[39m\u001b[39m%s\u001b[39;00m\u001b[39m\"\u001b[39m\u001b[39m]\u001b[39m\u001b[39m'\u001b[39m \u001b[39m%\u001b[39m value\n\u001b[1;32m--> 861\u001b[0m \u001b[39mreturn\u001b[39;00m \u001b[39mself\u001b[39;49m\u001b[39m.\u001b[39;49mexecute(Command\u001b[39m.\u001b[39;49mFIND_ELEMENT, {\u001b[39m\"\u001b[39;49m\u001b[39musing\u001b[39;49m\u001b[39m\"\u001b[39;49m: by, \u001b[39m\"\u001b[39;49m\u001b[39mvalue\u001b[39;49m\u001b[39m\"\u001b[39;49m: value})[\u001b[39m\"\u001b[39m\u001b[39mvalue\u001b[39m\u001b[39m\"\u001b[39m]\n",
      "File \u001b[1;32m~\\AppData\\Roaming\\Python\\Python310\\site-packages\\selenium\\webdriver\\remote\\webdriver.py:444\u001b[0m, in \u001b[0;36mWebDriver.execute\u001b[1;34m(self, driver_command, params)\u001b[0m\n\u001b[0;32m    442\u001b[0m response \u001b[39m=\u001b[39m \u001b[39mself\u001b[39m\u001b[39m.\u001b[39mcommand_executor\u001b[39m.\u001b[39mexecute(driver_command, params)\n\u001b[0;32m    443\u001b[0m \u001b[39mif\u001b[39;00m response:\n\u001b[1;32m--> 444\u001b[0m     \u001b[39mself\u001b[39;49m\u001b[39m.\u001b[39;49merror_handler\u001b[39m.\u001b[39;49mcheck_response(response)\n\u001b[0;32m    445\u001b[0m     response[\u001b[39m\"\u001b[39m\u001b[39mvalue\u001b[39m\u001b[39m\"\u001b[39m] \u001b[39m=\u001b[39m \u001b[39mself\u001b[39m\u001b[39m.\u001b[39m_unwrap_value(response\u001b[39m.\u001b[39mget(\u001b[39m\"\u001b[39m\u001b[39mvalue\u001b[39m\u001b[39m\"\u001b[39m, \u001b[39mNone\u001b[39;00m))\n\u001b[0;32m    446\u001b[0m     \u001b[39mreturn\u001b[39;00m response\n",
      "File \u001b[1;32m~\\AppData\\Roaming\\Python\\Python310\\site-packages\\selenium\\webdriver\\remote\\errorhandler.py:249\u001b[0m, in \u001b[0;36mErrorHandler.check_response\u001b[1;34m(self, response)\u001b[0m\n\u001b[0;32m    247\u001b[0m         alert_text \u001b[39m=\u001b[39m value[\u001b[39m\"\u001b[39m\u001b[39malert\u001b[39m\u001b[39m\"\u001b[39m]\u001b[39m.\u001b[39mget(\u001b[39m\"\u001b[39m\u001b[39mtext\u001b[39m\u001b[39m\"\u001b[39m)\n\u001b[0;32m    248\u001b[0m     \u001b[39mraise\u001b[39;00m exception_class(message, screen, stacktrace, alert_text)  \u001b[39m# type: ignore[call-arg]  # mypy is not smart enough here\u001b[39;00m\n\u001b[1;32m--> 249\u001b[0m \u001b[39mraise\u001b[39;00m exception_class(message, screen, stacktrace)\n",
      "\u001b[1;31mNoSuchElementException\u001b[0m: Message: no such element: Unable to locate element: {\"method\":\"xpath\",\"selector\":\"//*[@id=\"TGGZpe_content\"]/qv-filterpane/div/div[4]/div/div[2]/span\"}\n  (Session info: MicrosoftEdge=111.0.1661.41)\nStacktrace:\nBacktrace:\n\tMicrosoft::Applications::Events::EventProperties::SetProperty [0x00007FF78DD1A742+12658]\n\tMicrosoft::Applications::Events::EventProperty::EventProperty [0x00007FF78DCB29E2+747650]\n\t(No symbol) [0x00007FF78D94DD2E]\n\t(No symbol) [0x00007FF78D98FB49]\n\t(No symbol) [0x00007FF78D98FCD0]\n\t(No symbol) [0x00007FF78D9CB4B7]\n\t(No symbol) [0x00007FF78D9AF42F]\n\t(No symbol) [0x00007FF78D982791]\n\t(No symbol) [0x00007FF78D9C874C]\n\t(No symbol) [0x00007FF78D9AF1C3]\n\t(No symbol) [0x00007FF78D9817D6]\n\t(No symbol) [0x00007FF78D9809B5]\n\t(No symbol) [0x00007FF78D981F44]\n\tMicrosoft::Applications::Events::EventProperties::SetProperty [0x00007FF78DBC56A0+147088]\n\t(No symbol) [0x00007FF78DA69306]\n\tMicrosoft::Applications::Events::EventProperty::EventProperty [0x00007FF78DC04607+33959]\n\tMicrosoft::Applications::Events::EventProperty::EventProperty [0x00007FF78DC080D5+49013]\n\tMicrosoft::Applications::Events::ILogManager::DispatchEventBroadcast [0x00007FF78DEF9A93+1305267]\n\tMicrosoft::Applications::Events::EventProperty::EventProperty [0x00007FF78DCBAF9C+781884]\n\tMicrosoft::Applications::Events::EventProperty::EventProperty [0x00007FF78DCC04C4+803684]\n\tMicrosoft::Applications::Events::EventProperty::EventProperty [0x00007FF78DCC061C+804028]\n\tMicrosoft::Applications::Events::EventProperty::EventProperty [0x00007FF78DCC8721+837057]\n\tBaseThreadInitThunk [0x00007FFD30007614+20]\n\tRtlUserThreadStart [0x00007FFD30E226A1+33]\n"
     ]
    }
   ],
   "source": [
    "time.sleep(40)\n",
    "driver.find_element(By.XPATH, '//*[@id=\"TGGZpe_content\"]/qv-filterpane/div/div[4]/div/div[2]/span').click()\n",
    "login = driver.find_element(By.XPATH, '//*[@id=\"a7668034-f452-4553-aece-c2664d1d022a_content\"]/div/div[1]/div/input')\n",
    "time.sleep(2)\n",
    "login.send_keys('8801')\n",
    "time.sleep(2)\n",
    "driver.find_element(By.XPATH, '//*[@id=\"a7668034-f452-4553-aece-c2664d1d022a_content\"]/div/div[2]/div[1]/div/ul/li[1]/div[2]').click()\n",
    "driver.find_element(By.XPATH, '/html/body/div[6]/div/div/div/ng-transclude/div/div[2]/div/ul/li[5]/button').click()\n",
    "\n"
   ]
  },
  {
   "cell_type": "code",
   "execution_count": null,
   "id": "9cc1eb0c",
   "metadata": {},
   "outputs": [
    {
     "ename": "KeyboardInterrupt",
     "evalue": "",
     "output_type": "error",
     "traceback": [
      "\u001b[1;31m---------------------------------------------------------------------------\u001b[0m",
      "\u001b[1;31mKeyboardInterrupt\u001b[0m                         Traceback (most recent call last)",
      "Cell \u001b[1;32mIn[23], line 8\u001b[0m\n\u001b[0;32m      6\u001b[0m driver\u001b[39m.\u001b[39mfind_element(By\u001b[39m.\u001b[39mXPATH, \u001b[39m'\u001b[39m\u001b[39m//*[@id=\u001b[39m\u001b[39m\"\u001b[39m\u001b[39mexport\u001b[39m\u001b[39m\"\u001b[39m\u001b[39m]/span\u001b[39m\u001b[39m'\u001b[39m)\u001b[39m.\u001b[39mclick()\n\u001b[0;32m      7\u001b[0m driver\u001b[39m.\u001b[39mfind_element(By\u001b[39m.\u001b[39mXPATH, \u001b[39m'\u001b[39m\u001b[39m//*[@id=\u001b[39m\u001b[39m\"\u001b[39m\u001b[39mdata-export-settings-dialog\u001b[39m\u001b[39m\"\u001b[39m\u001b[39m]/div[3]/button[2]\u001b[39m\u001b[39m'\u001b[39m)\u001b[39m.\u001b[39mclick()\n\u001b[1;32m----> 8\u001b[0m time\u001b[39m.\u001b[39;49msleep(\u001b[39m30\u001b[39;49m)\n\u001b[0;32m      9\u001b[0m driver\u001b[39m.\u001b[39mfind_element(By\u001b[39m.\u001b[39mXPATH, \u001b[39m'\u001b[39m\u001b[39m//*[@id=\u001b[39m\u001b[39m\"\u001b[39m\u001b[39mexport-dialog\u001b[39m\u001b[39m\"\u001b[39m\u001b[39m]/div/div[2]/p[2]/a\u001b[39m\u001b[39m'\u001b[39m)\u001b[39m.\u001b[39mclick()\n\u001b[0;32m     10\u001b[0m time\u001b[39m.\u001b[39msleep(\u001b[39m30\u001b[39m)\n",
      "\u001b[1;31mKeyboardInterrupt\u001b[0m: "
     ]
    }
   ],
   "source": [
    "tabela = driver.find_element(By.XPATH, '//*[@id=\"gwHHpZL_content\"]/div/div[2]/div[1]/div/table/tbody/tr[6]/td[5]/div/div/span')\n",
    "ActionChains(driver).move_to_element(tabela).perform()\n",
    "time.sleep(2)\n",
    "driver.find_element(By.XPATH, '/html/body/div[4]/div[3]/div/div[2]/div/div/div[4]/div[1]/div/div[3]/div[2]/div[3]/div[1]/div/div[2]/button[2]').click()\n",
    "driver.find_element(By.XPATH, '/html/body/div[6]/div/div/div/ng-transclude/ul/li[5]/span').click()\n",
    "driver.find_element(By.XPATH, '//*[@id=\"export\"]/span').click()\n",
    "driver.find_element(By.XPATH, '//*[@id=\"data-export-settings-dialog\"]/div[3]/button[2]').click()\n",
    "time.sleep(30)\n",
    "driver.find_element(By.XPATH, '//*[@id=\"export-dialog\"]/div/div[2]/p[2]/a').click()\n",
    "time.sleep(30)\n",
    "driver.quit()"
   ]
  }
 ],
 "metadata": {
  "kernelspec": {
   "display_name": "Python 3",
   "language": "python",
   "name": "python3"
  },
  "language_info": {
   "codemirror_mode": {
    "name": "ipython",
    "version": 3
   },
   "file_extension": ".py",
   "mimetype": "text/x-python",
   "name": "python",
   "nbconvert_exporter": "python",
   "pygments_lexer": "ipython3",
   "version": "3.10.6"
  },
  "vscode": {
   "interpreter": {
    "hash": "26de051ba29f2982a8de78e945f0abaf191376122a1563185a90213a26c5da77"
   }
  }
 },
 "nbformat": 4,
 "nbformat_minor": 5
}
